{
 "cells": [
  {
   "cell_type": "code",
   "execution_count": 5,
   "metadata": {
    "id": "kGLrJrkpQI07"
   },
   "outputs": [],
   "source": [
    "from deap import base, creator, tools\n",
    "from rdkit import RDLogger\n",
    "from rdkit import Chem\n",
    "from rdkit.Chem import Descriptors\n",
    "from rdkit.Chem import Lipinski\n",
    "from ml_models.classifier import Classifier\n",
    "from tqdm import tqdm\n",
    "import pandas as pd\n",
    "import numpy as np\n",
    "import random"
   ]
  },
  {
   "cell_type": "code",
   "execution_count": 6,
   "metadata": {
    "colab": {
     "base_uri": "https://localhost:8080/",
     "height": 243
    },
    "id": "8R0Dxxl5QTGP",
    "outputId": "d9da1ea2-a2f1-492d-c2b4-ccb2ab1e2c62"
   },
   "outputs": [
    {
     "data": {
      "text/html": [
       "<div>\n",
       "<style scoped>\n",
       "    .dataframe tbody tr th:only-of-type {\n",
       "        vertical-align: middle;\n",
       "    }\n",
       "\n",
       "    .dataframe tbody tr th {\n",
       "        vertical-align: top;\n",
       "    }\n",
       "\n",
       "    .dataframe thead th {\n",
       "        text-align: right;\n",
       "    }\n",
       "</style>\n",
       "<table border=\"1\" class=\"dataframe\">\n",
       "  <thead>\n",
       "    <tr style=\"text-align: right;\">\n",
       "      <th></th>\n",
       "      <th>smiles</th>\n",
       "    </tr>\n",
       "  </thead>\n",
       "  <tbody>\n",
       "    <tr>\n",
       "      <th>0</th>\n",
       "      <td>CC1(C)C(=O)NC1S(=O)(=O)C1=CC=CC=C1</td>\n",
       "    </tr>\n",
       "    <tr>\n",
       "      <th>1</th>\n",
       "      <td>CC1C(=O)NC1S(=O)(=O)C1=CC=CC=C1</td>\n",
       "    </tr>\n",
       "    <tr>\n",
       "      <th>2</th>\n",
       "      <td>OC1=CC=CC(O)=C1</td>\n",
       "    </tr>\n",
       "    <tr>\n",
       "      <th>3</th>\n",
       "      <td>C(=CC1=CC=NC=C1)C1=CC=NC=C1</td>\n",
       "    </tr>\n",
       "    <tr>\n",
       "      <th>4</th>\n",
       "      <td>C1=NC=CC(C2C(C3=CC=NC=C3)C(C3=CC=NC=C3)C2C2=CC...</td>\n",
       "    </tr>\n",
       "  </tbody>\n",
       "</table>\n",
       "</div>"
      ],
      "text/plain": [
       "                                              smiles\n",
       "0                 CC1(C)C(=O)NC1S(=O)(=O)C1=CC=CC=C1\n",
       "1                    CC1C(=O)NC1S(=O)(=O)C1=CC=CC=C1\n",
       "2                                    OC1=CC=CC(O)=C1\n",
       "3                        C(=CC1=CC=NC=C1)C1=CC=NC=C1\n",
       "4  C1=NC=CC(C2C(C3=CC=NC=C3)C(C3=CC=NC=C3)C2C2=CC..."
      ]
     },
     "execution_count": 6,
     "metadata": {},
     "output_type": "execute_result"
    }
   ],
   "source": [
    "THEO_SMILES = 'N1C=NC2=C1C(=O)N(C)C(=O)N2C'\n",
    "data = pd.read_csv('../data/database_CCDC.csv', header=None)\n",
    "data.columns = ['smiles']\n",
    "data.head()"
   ]
  },
  {
   "cell_type": "markdown",
   "source": [
    "### Классы для дополниельных оценок"
   ],
   "metadata": {
    "collapsed": false
   }
  },
  {
   "cell_type": "code",
   "execution_count": 7,
   "metadata": {},
   "outputs": [],
   "source": [
    "class SARCalculator:\n",
    "    \"\"\"Класс для оценки сложности синтеза молекул (SAR) по шкале 0-1\"\"\"\n",
    "\n",
    "    def __init__(self):\n",
    "        self.MIN_SAR = 1.0\n",
    "        self.MAX_SAR = 5.0\n",
    "\n",
    "    def _estimate_synthesis_steps(self, mol):\n",
    "        return min(5, max(1, int(mol.GetNumAtoms() / 10)))\n",
    "\n",
    "    def _estimate_reaction_conditions(self, mol):\n",
    "        if THEO_SMILES in Chem.MolToSmiles(mol):\n",
    "            return 0.1  # Базовый теофиллин - простые условия\n",
    "        return min(1.0, Descriptors.NumRadicalElectrons(mol) * 0.2 + Descriptors.NumRotatableBonds(mol) * 0.05)\n",
    "\n",
    "    def _predict_yield(self, mol):\n",
    "        complexity_factor = Descriptors.MolLogP(mol) / 10\n",
    "        return max(0.1, 1.0 - complexity_factor)\n",
    "\n",
    "    def _chromatography_complexity(self, mol):\n",
    "        return min(1.0, Descriptors.NumRotatableBonds(mol) * 0.15 + Descriptors.TPSA(mol) * 0.005)\n",
    "\n",
    "    def calculate_normalized_SAR(self, smiles):\n",
    "        mol = Chem.MolFromSmiles(smiles)\n",
    "        if not mol:\n",
    "            return 0.0\n",
    "\n",
    "        components = {\n",
    "            'steps': self._estimate_synthesis_steps(mol),\n",
    "            'conditions': self._estimate_reaction_conditions(mol),\n",
    "            'yield': self._predict_yield(mol),\n",
    "            'chromatography': self._chromatography_complexity(mol)\n",
    "        }\n",
    "\n",
    "        weights = [0.4, 0.3, 0.2, 0.1]\n",
    "        raw_sar = np.dot(weights, [\n",
    "            components['steps'],\n",
    "            components['conditions'] * 5,\n",
    "            5 * (1 - components['yield']),\n",
    "            components['chromatography'] * 5\n",
    "        ])\n",
    "\n",
    "        normalized_sar = (raw_sar - self.MIN_SAR) / (self.MAX_SAR - self.MIN_SAR)\n",
    "        return max(0.0, min(1.0, normalized_sar))"
   ]
  },
  {
   "cell_type": "code",
   "execution_count": 8,
   "metadata": {},
   "outputs": [],
   "source": [
    "class CocrystalEvaluator:\n",
    "    \"\"\"Класс для оценки ко-кристаллизации теофиллина (шкала 0-1)\"\"\"\n",
    "\n",
    "    def __init__(self):\n",
    "        self.theo_smiles = THEO_SMILES\n",
    "        self.theo_mol = Chem.MolFromSmiles(self.theo_smiles)\n",
    "\n",
    "    def _calculate_h_bond_score(self, cof_mol):\n",
    "        h_donors = min(Descriptors.NumHDonors(cof_mol), 2)\n",
    "        h_acceptors = min(Descriptors.NumHAcceptors(self.theo_mol), 3)\n",
    "        return (h_donors / 2 * 0.6) + (h_acceptors / 3 * 0.4)\n",
    "\n",
    "    def _calculate_functional_groups(self, cof_mol):\n",
    "        score = 0\n",
    "        if cof_mol.HasSubstructMatch(Chem.MolFromSmarts('C(=O)O')):\n",
    "            score += 0.5  # Карбоксил\n",
    "        if cof_mol.HasSubstructMatch(Chem.MolFromSmarts('[OH]')):\n",
    "            score += 0.3  # Гидроксил\n",
    "        if cof_mol.HasSubstructMatch(Chem.MolFromSmarts('[NH2]')):\n",
    "            score += 0.2  # Аминогруппа\n",
    "        return score\n",
    "\n",
    "    def _calculate_stereo_match(self, cof_mol):\n",
    "        delta_logp = abs(Descriptors.MolLogP(self.theo_mol) - Descriptors.MolLogP(cof_mol))\n",
    "        return max(0, 1.0 - delta_logp / 5)  # Нормировка разницы LogP\n",
    "\n",
    "    def calculate_cocrystal_score(self, cof_smiles):\n",
    "        cof_mol = Chem.MolFromSmiles(cof_smiles)\n",
    "        if not cof_mol:\n",
    "            return 0.0\n",
    "\n",
    "        components = {\n",
    "            'h_bonds': self._calculate_h_bond_score(cof_mol),\n",
    "            'func_groups': self._calculate_functional_groups(cof_mol),\n",
    "            'stereo': self._calculate_stereo_match(cof_mol)\n",
    "        }\n",
    "\n",
    "        return 0.4 * components['h_bonds'] + 0.3 * components['func_groups'] + 0.3 * components['stereo']"
   ]
  },
  {
   "cell_type": "code",
   "execution_count": null,
   "outputs": [],
   "source": [
    "sar_calculator = SARCalculator()\n",
    "cocrystal_evaluator = CocrystalEvaluator()"
   ],
   "metadata": {
    "collapsed": false
   }
  },
  {
   "cell_type": "markdown",
   "source": [
    "### Функции кроссовера и мутации"
   ],
   "metadata": {
    "collapsed": false
   }
  },
  {
   "cell_type": "code",
   "execution_count": 9,
   "metadata": {
    "id": "8bbmyVTLQTCw"
   },
   "outputs": [],
   "source": [
    "RDLogger.DisableLog('rdApp.*')\n",
    "\n",
    "\n",
    "def calculate_complexity(smiles):\n",
    "    try:\n",
    "        mol = Chem.MolFromSmiles(smiles)\n",
    "        return Descriptors.MolComplexity(mol) if mol else None\n",
    "    except:\n",
    "        return 100\n",
    "\n",
    "\n",
    "def calculate_druglike_solubility(smiles):\n",
    "    mol = Chem.MolFromSmiles(smiles)\n",
    "    if not mol:\n",
    "        return None\n",
    "\n",
    "    logp = Descriptors.MolLogP(mol)                     # Липофильность (чем меньше, тем лучше)\n",
    "    tpsa = Descriptors.TPSA(mol)                        # Полярная поверхность (чем больше, тем лучше)\n",
    "    mw = Descriptors.MolWt(mol)                         # Молекулярный вес\n",
    "    h_donors = Lipinski.NumHDonors(mol)                 # Доноры водорода\n",
    "    h_acceptors = Lipinski.NumHAcceptors(mol)           # Акцепторы водорода\n",
    "    rotatable_bonds = Lipinski.NumRotatableBonds(mol)   # Подвижные связи\n",
    "\n",
    "    lipinski_flags = [\n",
    "        logp <= 5,\n",
    "        mw <= 500,\n",
    "        h_donors <= 5,\n",
    "        h_acceptors <= 10,\n",
    "        rotatable_bonds <= 10\n",
    "    ]\n",
    "    lipinski_score = sum(lipinski_flags) / len(lipinski_flags)\n",
    "\n",
    "    solubility_score = (\n",
    "            0.4 * (1 - max((logp - 1) / 4, 0) +\n",
    "                   0.3 * (tpsa / 140) +\n",
    "                   0.2 * (1 - mw / 500) +\n",
    "                   0.1 * lipinski_score)\n",
    "    )\n",
    "\n",
    "    return max(0, min(1, solubility_score))\n",
    "\n",
    "\n",
    "def calculate_tabletability(smiles_str, drug=THEO_SMILES):\n",
    "    properties_to_predict = ['unobstructed', 'orthogonal_planes', 'h_bond_bridging']\n",
    "\n",
    "    classification = Classifier()\n",
    "\n",
    "    properties = classification.predict_properties(drug, smiles_str, properties_to_predict)\n",
    "    lst = list(properties.values())\n",
    "\n",
    "    sar_score = sar_calculator.calculate_normalized_SAR(smiles_str)\n",
    "    score = calculate_druglike_solubility(smiles_str)\n",
    "\n",
    "    total_score = sar_score\n",
    "    return lst[0], lst[1], (1 - lst[2]), total_score, score\n",
    "\n",
    "\n",
    "def crossover(ind1, ind2):\n",
    "    min_length = 2\n",
    "\n",
    "    if len(ind1) < min_length or len(ind2) < min_length:\n",
    "        return ind1, ind2\n",
    "\n",
    "    max_point = min(len(ind1), len(ind2)) - 1\n",
    "    if max_point < 1:\n",
    "        return ind1, ind2\n",
    "\n",
    "    point = random.randint(1, max_point)\n",
    "\n",
    "    ind1_new = creator.Individual(ind1[:point] + ind2[point:])\n",
    "    ind2_new = creator.Individual(ind2[:point] + ind1[point:])\n",
    "\n",
    "    return ind1_new, ind2_new"
   ]
  },
  {
   "cell_type": "code",
   "execution_count": 10,
   "metadata": {
    "id": "g0OAVdEAl9Pi"
   },
   "outputs": [],
   "source": [
    "FUNCTIONAL_GROUPS = [\n",
    "    # H-доноры (приоритет для таблетируемости)\n",
    "    {\"smiles\": \"C(=O)O\", \"weight\": 2.3, \"h_bond\": True},\n",
    "    {\"smiles\": \"O\", \"weight\": 1, \"h_bond\": True},\n",
    "    {\"smiles\": \"N\", \"weight\": 1.2, \"h_bond\": True},\n",
    "    {\"smiles\": \"C(=O)N\", \"weight\": 1.1, \"h_bond\": True},\n",
    "\n",
    "    # Галогены (пониженный вес)\n",
    "    {\"smiles\": \"F\", \"weight\": 0.3, \"h_bond\": False},\n",
    "    {\"smiles\": \"Cl\", \"weight\": 0.2, \"h_bond\": False},\n",
    "\n",
    "    # Потенциально токсичные (минимальный вес)\n",
    "    {\"smiles\": \"N(=O)=O\", \"weight\": 0.1, \"h_bond\": False}]\n",
    "\n",
    "\n",
    "def is_valid_molecule(smiles):\n",
    "    mol = Chem.MolFromSmiles(smiles)\n",
    "    if not mol:\n",
    "        return False\n",
    "    atom_types = [atom.GetSymbol() for atom in mol.GetAtoms()]\n",
    "    for i in range(len(atom_types) - 1):\n",
    "        if (atom_types[i] == \"N\" and atom_types[i + 1] == \"N\") or (atom_types[i] == \"O\" and atom_types[i + 1] == \"O\"):\n",
    "            return False\n",
    "    return True\n",
    "\n",
    "def is_cyclic(mol):\n",
    "    return mol.GetRingInfo().NumRings() > 0\n",
    "\n",
    "def count_atoms(mol):\n",
    "    atom_counts = {\n",
    "        \"N\": 0,\n",
    "        \"O\": 0,\n",
    "        \"F\": 0,\n",
    "        \"Br\": 0,\n",
    "        \"Cl\": 0\n",
    "    }\n",
    "    for atom in mol.GetAtoms():\n",
    "        symbol = atom.GetSymbol()\n",
    "        if symbol in atom_counts:\n",
    "            atom_counts[symbol] += 1\n",
    "    return atom_counts\n",
    "\n",
    "def mutate(ind):\n",
    "    mol = Chem.MolFromSmiles(ind)\n",
    "    if not mol or len(ind) > 50:\n",
    "        return ind\n",
    "\n",
    "    for _ in range(10):  # Попробуем выполнить мутацию до 10 раз\n",
    "        mutation_type = random.choices(\n",
    "            [\"replace_atom\", \"add_group\"],\n",
    "            weights=[0.4, 0.6],\n",
    "            k=1\n",
    "        )[0]\n",
    "\n",
    "        if mutation_type == \"replace_atom\":\n",
    "            atom_idx = random.randint(0, mol.GetNumAtoms() - 1)\n",
    "            new_atom = random.choices(\n",
    "                [\"C\", \"N\", \"O\"],\n",
    "                weights=[0.4, 0.2, 0.1],\n",
    "                k=1\n",
    "            )[0]\n",
    "            if atom_idx < mol.GetNumAtoms() - 1 and ind[atom_idx+1] == \"C\" and new_atom in [\"N\", \"O\"]:\n",
    "                mol.GetAtomWithIdx(atom_idx).SetAtomicNum(Chem.GetPeriodicTable().GetAtomicNumber(new_atom))\n",
    "                new_smiles = Chem.MolToSmiles(mol)\n",
    "            elif new_atom == \"C\":\n",
    "                mol.GetAtomWithIdx(atom_idx).SetAtomicNum(Chem.GetPeriodicTable().GetAtomicNumber(new_atom))\n",
    "                new_smiles = Chem.MolToSmiles(mol)\n",
    "            else:\n",
    "                continue\n",
    "\n",
    "        else:\n",
    "            valid_groups = [g for g in FUNCTIONAL_GROUPS]\n",
    "            weights = [g[\"weight\"] for g in valid_groups]\n",
    "\n",
    "            total_weight = sum(weights)\n",
    "            normalized_weights = [w / total_weight for w in weights]\n",
    "\n",
    "            group = random.choices(valid_groups, weights=normalized_weights, k=1)[0][\"smiles\"]\n",
    "\n",
    "            if is_cyclic(mol):\n",
    "                cyclic_atoms = [atom.GetIdx() for atom in mol.GetAtoms() if atom.IsInRing()]\n",
    "                non_cyclic_atoms = [i for i in range(mol.GetNumAtoms()) if i not in cyclic_atoms]\n",
    "                if non_cyclic_atoms:\n",
    "                    index = random.choice(non_cyclic_atoms)\n",
    "                else:\n",
    "                    continue\n",
    "            else:\n",
    "                index = random.randint(0, len(ind))\n",
    "            if group == \"O\" and is_cyclic(mol):\n",
    "                continue\n",
    "                \n",
    "            # Проверка на добавление галогена\n",
    "            if index > 0 and ind[index-1] == \"C\":\n",
    "                new_smiles = ind[:index] + group + ind[index:]\n",
    "            else:\n",
    "                continue\n",
    "\n",
    "        if not is_valid_molecule(new_smiles):\n",
    "            continue\n",
    "\n",
    "        new_mol = Chem.MolFromSmiles(new_smiles)\n",
    "\n",
    "        # Проверка на количество колец и их размеры\n",
    "        if not new_mol or new_mol.GetNumAtoms() > 35 or any(len(ring) > 6 for ring in new_mol.GetRingInfo().AtomRings()):\n",
    "            continue\n",
    "\n",
    "        # Проверка на количество атомов\n",
    "        atom_counts = count_atoms(new_mol)\n",
    "        if (atom_counts[\"N\"] > 4 or atom_counts[\"O\"] > 4 or\n",
    "                atom_counts[\"F\"] > 4 or atom_counts[\"Br\"] > 2 or\n",
    "                atom_counts[\"Cl\"] > 2):\n",
    "            continue\n",
    "\n",
    "        return creator.Individual(new_smiles)\n",
    "\n",
    "    return ind"
   ]
  },
  {
   "cell_type": "code",
   "execution_count": 11,
   "metadata": {
    "id": "hUc0dIDSQTAK"
   },
   "outputs": [],
   "source": [
    "creator.create(\"FitnessMulti\", base.Fitness, weights=(1.0, 1.0, 1.0, 1.0, 1.0))\n",
    "creator.create(\"Individual\", str, fitness=creator.FitnessMulti)\n",
    "\n",
    "toolbox = base.Toolbox()\n",
    "\n",
    "initial_smiles = data['smiles'].tolist()\n",
    "toolbox.register(\"smiles\", random.choice, initial_smiles)\n",
    "toolbox.register(\"individual\", tools.initIterate, creator.Individual, toolbox.smiles)\n",
    "toolbox.register(\"population\", tools.initRepeat, list, toolbox.individual)\n",
    "\n",
    "toolbox.register(\"evaluate\", lambda ind: calculate_tabletability(ind))\n",
    "toolbox.register(\"mate\", crossover)\n",
    "toolbox.register(\"mutate\", mutate)\n",
    "toolbox.register(\"select\", tools.selTournament, tournsize=3)\n",
    "\n",
    "population = toolbox.population(n=30)\n",
    "N_GEN = 30\n",
    "CXPB = 0.6\n",
    "MUTPB = 0.2"
   ]
  },
  {
   "cell_type": "markdown",
   "source": [
    "### Эволюционная оптимизация"
   ],
   "metadata": {
    "collapsed": false
   }
  },
  {
   "cell_type": "code",
   "execution_count": null,
   "metadata": {
    "colab": {
     "base_uri": "https://localhost:8080/",
     "height": 1000
    },
    "id": "42yvEJP5QS97",
    "outputId": "e42dfed4-d76b-4a06-c776-22ef440b3871"
   },
   "outputs": [],
   "source": [
    "for gen in tqdm(range(N_GEN)):\n",
    "    offspring = toolbox.select(population, len(population))\n",
    "    offspring = list(map(toolbox.clone, offspring))\n",
    "\n",
    "    for child1, child2 in zip(offspring[::2], offspring[1::2]):\n",
    "        if random.random() < CXPB:\n",
    "            child1, child2 = toolbox.mate(child1, child2)\n",
    "            del child1.fitness.values\n",
    "            del child2.fitness.values\n",
    "\n",
    "    for i in range(len(offspring)):\n",
    "        if random.random() < MUTPB:\n",
    "            offspring[i] = toolbox.mutate(offspring[i])\n",
    "            del offspring[i].fitness.values\n",
    "\n",
    "    # Удаление дубликатов с принудительной мутацией\n",
    "    seen_smiles = set()\n",
    "    new_offspring = []\n",
    "\n",
    "    for ind in offspring:\n",
    "        mol = Chem.MolFromSmiles(ind)\n",
    "        if mol is None:\n",
    "            continue\n",
    "        can_smiles = Chem.MolToSmiles(mol, canonical=True)\n",
    "\n",
    "        if can_smiles not in seen_smiles:\n",
    "            seen_smiles.add(can_smiles)\n",
    "            new_offspring.append(ind)\n",
    "        else:\n",
    "            mutated = None\n",
    "            attempts = 0\n",
    "            max_attempts = 100\n",
    "            while attempts < max_attempts:\n",
    "                mutated_candidate = toolbox.mutate(ind)\n",
    "                mol_mut = Chem.MolFromSmiles(mutated_candidate)\n",
    "                if mol_mut is None:\n",
    "                    attempts += 1\n",
    "                    continue\n",
    "                new_smiles = Chem.MolToSmiles(mol_mut, canonical=True)\n",
    "                if new_smiles not in seen_smiles:\n",
    "                    mutated = creator.Individual(mutated_candidate)\n",
    "                    seen_smiles.add(new_smiles)\n",
    "                    break\n",
    "                attempts += 1\n",
    "\n",
    "            if mutated:\n",
    "                new_offspring.append(mutated)\n",
    "\n",
    "    offspring = new_offspring\n",
    "\n",
    "    invalid_ind = [ind for ind in offspring if not ind.fitness.valid]\n",
    "    valid_ind = list(filter(lambda ind: Chem.MolFromSmiles(ind) is not None, invalid_ind))\n",
    "    fitnesses = map(toolbox.evaluate, valid_ind)\n",
    "\n",
    "    for ind, fit in zip(valid_ind, fitnesses):\n",
    "        ind.fitness.values = fit\n",
    "\n",
    "    population[:] = offspring\n",
    "    print(gen, population)"
   ]
  },
  {
   "cell_type": "markdown",
   "source": [
    "#### Финальный отбор"
   ],
   "metadata": {
    "collapsed": false
   }
  },
  {
   "cell_type": "code",
   "execution_count": null,
   "metadata": {
    "id": "ZWECZmSvTNBw"
   },
   "outputs": [],
   "source": [
    "valid_population = [ind for ind in population if Chem.MolFromSmiles(ind) is not None and ind.fitness.valid]\n",
    "top = tools.selBest(valid_population, 1000)\n",
    "\n",
    "print(\"\\n🔝 Топ молекул по tabletability score:\\n\")\n",
    "for i, ind in enumerate(top, 1):\n",
    "    print(f\"{i}. SMILES: {ind}, Tabletability Score: {ind.fitness.values}\")"
   ]
  },
  {
   "cell_type": "markdown",
   "source": [
    "#### Изображения полученных молекул"
   ],
   "metadata": {
    "collapsed": false
   }
  },
  {
   "cell_type": "code",
   "execution_count": null,
   "metadata": {
    "id": "8M3uMm96sjAF"
   },
   "outputs": [],
   "source": [
    "Chem.MolFromSmiles(valid_population[0])"
   ]
  },
  {
   "cell_type": "code",
   "execution_count": null,
   "metadata": {
    "id": "OkiYnxvtNrzU"
   },
   "outputs": [],
   "source": [
    "Chem.MolFromSmiles(valid_population[1])"
   ]
  },
  {
   "cell_type": "code",
   "execution_count": null,
   "metadata": {
    "id": "dUJ4iVMvODut"
   },
   "outputs": [],
   "source": [
    "Chem.MolFromSmiles(valid_population[10])"
   ]
  },
  {
   "cell_type": "code",
   "execution_count": null,
   "metadata": {},
   "outputs": [],
   "source": [
    "Chem.MolFromSmiles(valid_population[20])"
   ]
  },
  {
   "cell_type": "code",
   "execution_count": null,
   "metadata": {},
   "outputs": [],
   "source": [
    "Chem.MolFromSmiles(valid_population[60])"
   ]
  }
 ],
 "metadata": {
  "colab": {
   "provenance": []
  },
  "kernelspec": {
   "display_name": "Python 3",
   "language": "python",
   "name": "python3"
  },
  "language_info": {
   "codemirror_mode": {
    "name": "ipython",
    "version": 3
   },
   "file_extension": ".py",
   "mimetype": "text/x-python",
   "name": "python",
   "nbconvert_exporter": "python",
   "pygments_lexer": "ipython3",
   "version": "3.9.0"
  }
 },
 "nbformat": 4,
 "nbformat_minor": 0
}
