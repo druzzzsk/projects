{
 "cells": [
  {
   "cell_type": "code",
   "execution_count": null,
   "outputs": [],
   "source": [
    "import pandas as pd\n",
    "from ml_models.classifier import Classifier"
   ],
   "metadata": {
    "collapsed": false
   }
  },
  {
   "cell_type": "code",
   "execution_count": null,
   "metadata": {},
   "outputs": [],
   "source": [
    "df = pd.read_csv('/Users/ivangolovkin/VSCode/ClonedRepositories/evo-cocrystals-1/data/database_CCDC.csv', header=None)\n",
    "df.columns = ['sequence']\n",
    "df['Drug'] =  'CN1C2=C(C(=O)N(C1=O)C)NC=N2'"
   ]
  },
  {
   "cell_type": "markdown",
   "source": [
    "#### Классификация реальных коформеров"
   ],
   "metadata": {
    "collapsed": false
   }
  },
  {
   "cell_type": "code",
   "execution_count": 23,
   "metadata": {},
   "outputs": [
    {
     "data": {
      "application/vnd.microsoft.datawrangler.viewer.v0+json": {
       "columns": [
        {
         "name": "index",
         "rawType": "int64",
         "type": "integer"
        },
        {
         "name": "sequence",
         "rawType": "object",
         "type": "string"
        },
        {
         "name": "Drug",
         "rawType": "object",
         "type": "string"
        },
        {
         "name": "unobstructed",
         "rawType": "object",
         "type": "unknown"
        },
        {
         "name": "orthogonal_planes",
         "rawType": "object",
         "type": "unknown"
        },
        {
         "name": "h_bond_bridging",
         "rawType": "object",
         "type": "unknown"
        }
       ],
       "conversionMethod": "pd.DataFrame",
       "ref": "d20cca9e-8dd7-4c6a-b644-16af4d36c571",
       "rows": [
        [
         "0",
         "CC1(C)C(=O)NC1S(=O)(=O)C1=CC=CC=C1",
         "CN1C2=C(C(=O)N(C1=O)C)NC=N2",
         "0",
         "0",
         "1"
        ],
        [
         "1",
         "CC1C(=O)NC1S(=O)(=O)C1=CC=CC=C1",
         "CN1C2=C(C(=O)N(C1=O)C)NC=N2",
         "1",
         "0",
         "1"
        ],
        [
         "2",
         "OC1=CC=CC(O)=C1",
         "CN1C2=C(C(=O)N(C1=O)C)NC=N2",
         "1",
         "0",
         "1"
        ],
        [
         "3",
         "C(=CC1=CC=NC=C1)C1=CC=NC=C1",
         "CN1C2=C(C(=O)N(C1=O)C)NC=N2",
         "1",
         "0",
         "0"
        ],
        [
         "4",
         "C1=NC=CC(C2C(C3=CC=NC=C3)C(C3=CC=NC=C3)C2C2=CC=NC=C2)=C1",
         "CN1C2=C(C(=O)N(C1=O)C)NC=N2",
         "0",
         "0",
         "0"
        ],
        [
         "5",
         "COC1=CC(O)=CC(O)=C1",
         "CN1C2=C(C(=O)N(C1=O)C)NC=N2",
         "1",
         "0",
         "1"
        ],
        [
         "6",
         "C(=CC1=CC=CC=N1)C1=CC=CC=N1",
         "CN1C2=C(C(=O)N(C1=O)C)NC=N2",
         "1",
         "0",
         "0"
        ],
        [
         "7",
         "NC(=O)N1C2=CC=CC=C2C=CC2=CC=CC=C21",
         "CN1C2=C(C(=O)N(C1=O)C)NC=N2",
         "1",
         "0",
         "1"
        ],
        [
         "8",
         "OC1=CC=C(O)C=C1",
         "CN1C2=C(C(=O)N(C1=O)C)NC=N2",
         "1",
         "0",
         "1"
        ],
        [
         "9",
         "NC(=O)CN1CCCC1=O",
         "CN1C2=C(C(=O)N(C1=O)C)NC=N2",
         "1",
         "0",
         "1"
        ],
        [
         "10",
         "O=C1C(O)=C(Cl)C(=O)C(O)=C1Cl",
         "CN1C2=C(C(=O)N(C1=O)C)NC=N2",
         "1",
         "0",
         "1"
        ],
        [
         "11",
         "C(#CC1=CC=CC=N1)C1=CC=CC=N1",
         "CN1C2=C(C(=O)N(C1=O)C)NC=N2",
         "1",
         "0",
         "0"
        ],
        [
         "12",
         "NC(=O)C1=CC=CN=C1",
         "CN1C2=C(C(=O)N(C1=O)C)NC=N2",
         "1",
         "0",
         "1"
        ],
        [
         "13",
         "O=C(O)C1=CC2=CC=CC=C2C=C1O",
         "CN1C2=C(C(=O)N(C1=O)C)NC=N2",
         "1",
         "0",
         "1"
        ],
        [
         "14",
         "O=C(O)C1=CC([N+](=O)[O-])=CC([N+](=O)[O-])=C1",
         "CN1C2=C(C(=O)N(C1=O)C)NC=N2",
         "1",
         "0",
         "0"
        ],
        [
         "15",
         "C1=CC=C2C(=C1)C=CC1=CC=C3C=CC4=CC=C5C=CC=CC5=C4C3=C12",
         "CN1C2=C(C(=O)N(C1=O)C)NC=N2",
         "0",
         "0",
         "0"
        ],
        [
         "16",
         "N#CC(C#N)=C1C=CC(=C(C#N)C#N)C=C1",
         "CN1C2=C(C(=O)N(C1=O)C)NC=N2",
         "1",
         "1",
         "0"
        ],
        [
         "17",
         "O=C(O)C1=CC(C(=O)O)=CC([N+](=O)[O-])=C1",
         "CN1C2=C(C(=O)N(C1=O)C)NC=N2",
         "1",
         "0",
         "1"
        ],
        [
         "18",
         "C1=CC=C2C(=C1)C=CC1=CC=CC=C12",
         "CN1C2=C(C(=O)N(C1=O)C)NC=N2",
         "1",
         "0",
         "0"
        ],
        [
         "19",
         "CC(=O)C=C(C)O",
         "CN1C2=C(C(=O)N(C1=O)C)NC=N2",
         "1",
         "1",
         "0"
        ],
        [
         "20",
         "CC1=C(C2=C(C)C=C3C(C(C)C)=C(O)C(O)=C(C=O)C3=C2O)C(O)=C2C(C=O)=C(O)C(O)=C(C(C)C)C2=C1",
         "CN1C2=C(C(=O)N(C1=O)C)NC=N2",
         "0",
         "0",
         "1"
        ],
        [
         "21",
         "COC(=O)N1C=NC(C(N)=O)=C1N",
         "CN1C2=C(C(=O)N(C1=O)C)NC=N2",
         "1",
         "0",
         "1"
        ],
        [
         "22",
         "CN1N=NC2=C(C(N)=O)N=CN2C1=O",
         "CN1C2=C(C(=O)N(C1=O)C)NC=N2",
         "1",
         "0",
         "1"
        ],
        [
         "23",
         "NC1=CC=CC=C1C(=O)O",
         "CN1C2=C(C(=O)N(C1=O)C)NC=N2",
         "1",
         "0",
         "1"
        ],
        [
         "24",
         "O=C(O)C(O)C(O)C(=O)O",
         "CN1C2=C(C(=O)N(C1=O)C)NC=N2",
         "1",
         "0",
         "1"
        ],
        [
         "25",
         "O=C(O)C(=O)O",
         "CN1C2=C(C(=O)N(C1=O)C)NC=N2",
         "1",
         "1",
         "0"
        ],
        [
         "26",
         "O=C(O)C1=CC=CC=C1O",
         "CN1C2=C(C(=O)N(C1=O)C)NC=N2",
         "1",
         "0",
         "1"
        ],
        [
         "27",
         "C1=CC2=CC=CC3=C2C(=C1)CC3",
         "CN1C2=C(C(=O)N(C1=O)C)NC=N2",
         "1",
         "0",
         "0"
        ],
        [
         "28",
         "O=C1C(Cl)=C(Cl)C(=O)C(Cl)=C1Cl",
         "CN1C2=C(C(=O)N(C1=O)C)NC=N2",
         "1",
         "1",
         "0"
        ],
        [
         "29",
         "C1COCCOCCOCCOCCOCCOCCOCCO1",
         "CN1C2=C(C(=O)N(C1=O)C)NC=N2",
         "0",
         "0",
         "0"
        ],
        [
         "30",
         "BrC1=CC=C(Br)C2=C1N=C(C1=CC=C(C3=NC4=C(Br)C=CC(Br)=C4N3)C=C1)N2",
         "CN1C2=C(C(=O)N(C1=O)C)NC=N2",
         "1",
         "0",
         "1"
        ],
        [
         "31",
         "O=C(O)C1=CC=CC2=CC=CC(C(=O)O)=C12",
         "CN1C2=C(C(=O)N(C1=O)C)NC=N2",
         "1",
         "0",
         "1"
        ],
        [
         "32",
         "O=C1C=CC=CN1",
         "CN1C2=C(C(=O)N(C1=O)C)NC=N2",
         "1",
         "1",
         "1"
        ],
        [
         "33",
         "O=C(O)C1CC1",
         "CN1C2=C(C(=O)N(C1=O)C)NC=N2",
         "1",
         "0",
         "1"
        ],
        [
         "34",
         "NC(=O)C1=CC=NC=C1",
         "CN1C2=C(C(=O)N(C1=O)C)NC=N2",
         "1",
         "0",
         "1"
        ],
        [
         "35",
         "O=C(O)C1CCC1",
         "CN1C2=C(C(=O)N(C1=O)C)NC=N2",
         "1",
         "0",
         "1"
        ],
        [
         "36",
         "O=C(O)C1CCCCC1",
         "CN1C2=C(C(=O)N(C1=O)C)NC=N2",
         "1",
         "0",
         "0"
        ],
        [
         "37",
         "NC(=O)C1=CN=CC=N1",
         "CN1C2=C(C(=O)N(C1=O)C)NC=N2",
         "1",
         "0",
         "1"
        ],
        [
         "38",
         "O=C(O)C1=CC(O)=CC(O)=C1",
         "CN1C2=C(C(=O)N(C1=O)C)NC=N2",
         "1",
         "0",
         "1"
        ],
        [
         "39",
         "COC1=CC(C=CC(=O)O)=CC=C1O",
         "CN1C2=C(C(=O)N(C1=O)C)NC=N2",
         "1",
         "0",
         "1"
        ],
        [
         "40",
         "C1=NC=CC(CCC2=CC=NC=C2)=C1",
         "CN1C2=C(C(=O)N(C1=O)C)NC=N2",
         "1",
         "0",
         "0"
        ],
        [
         "41",
         "OC1=CC=C(Cl)C(O)=C1",
         "CN1C2=C(C(=O)N(C1=O)C)NC=N2",
         "1",
         "0",
         "1"
        ],
        [
         "42",
         "N#CC1=CC=C(C(=O)O)C=C1",
         "CN1C2=C(C(=O)N(C1=O)C)NC=N2",
         "1",
         "0",
         "0"
        ],
        [
         "43",
         "NNC(=O)C1=CC=NC=C1",
         "CN1C2=C(C(=O)N(C1=O)C)NC=N2",
         "1",
         "0",
         "1"
        ],
        [
         "44",
         "NC1=CC=C(C(=O)O)C=C1",
         "CN1C2=C(C(=O)N(C1=O)C)NC=N2",
         "1",
         "0",
         "1"
        ],
        [
         "45",
         "O=C(O)C1=CC=C([N+](=O)[O-])C=C1",
         "CN1C2=C(C(=O)N(C1=O)C)NC=N2",
         "1",
         "0",
         "0"
        ],
        [
         "46",
         "C1CCC(NC2CCCCC2)CC1",
         "CN1C2=C(C(=O)N(C1=O)C)NC=N2",
         "0",
         "0",
         "0"
        ],
        [
         "47",
         "ON=C1CCCCC1",
         "CN1C2=C(C(=O)N(C1=O)C)NC=N2",
         "1",
         "0",
         "0"
        ],
        [
         "48",
         "O=C1NC(=O)N(C2OC(CO)C(O)C2O)C=C1Br",
         "CN1C2=C(C(=O)N(C1=O)C)NC=N2",
         "1",
         "0",
         "1"
        ],
        [
         "49",
         "NC1=NC=NC2=C1N=CN2C1OC(CO)C(O)C1O",
         "CN1C2=C(C(=O)N(C1=O)C)NC=N2",
         "1",
         "0",
         "1"
        ]
       ],
       "shape": {
        "columns": 5,
        "rows": 4227
       }
      },
      "text/html": [
       "<div>\n",
       "<style scoped>\n",
       "    .dataframe tbody tr th:only-of-type {\n",
       "        vertical-align: middle;\n",
       "    }\n",
       "\n",
       "    .dataframe tbody tr th {\n",
       "        vertical-align: top;\n",
       "    }\n",
       "\n",
       "    .dataframe thead th {\n",
       "        text-align: right;\n",
       "    }\n",
       "</style>\n",
       "<table border=\"1\" class=\"dataframe\">\n",
       "  <thead>\n",
       "    <tr style=\"text-align: right;\">\n",
       "      <th></th>\n",
       "      <th>sequence</th>\n",
       "      <th>Drug</th>\n",
       "      <th>unobstructed</th>\n",
       "      <th>orthogonal_planes</th>\n",
       "      <th>h_bond_bridging</th>\n",
       "    </tr>\n",
       "  </thead>\n",
       "  <tbody>\n",
       "    <tr>\n",
       "      <th>0</th>\n",
       "      <td>CC1(C)C(=O)NC1S(=O)(=O)C1=CC=CC=C1</td>\n",
       "      <td>CN1C2=C(C(=O)N(C1=O)C)NC=N2</td>\n",
       "      <td>0</td>\n",
       "      <td>0</td>\n",
       "      <td>1</td>\n",
       "    </tr>\n",
       "    <tr>\n",
       "      <th>1</th>\n",
       "      <td>CC1C(=O)NC1S(=O)(=O)C1=CC=CC=C1</td>\n",
       "      <td>CN1C2=C(C(=O)N(C1=O)C)NC=N2</td>\n",
       "      <td>1</td>\n",
       "      <td>0</td>\n",
       "      <td>1</td>\n",
       "    </tr>\n",
       "    <tr>\n",
       "      <th>2</th>\n",
       "      <td>OC1=CC=CC(O)=C1</td>\n",
       "      <td>CN1C2=C(C(=O)N(C1=O)C)NC=N2</td>\n",
       "      <td>1</td>\n",
       "      <td>0</td>\n",
       "      <td>1</td>\n",
       "    </tr>\n",
       "    <tr>\n",
       "      <th>3</th>\n",
       "      <td>C(=CC1=CC=NC=C1)C1=CC=NC=C1</td>\n",
       "      <td>CN1C2=C(C(=O)N(C1=O)C)NC=N2</td>\n",
       "      <td>1</td>\n",
       "      <td>0</td>\n",
       "      <td>0</td>\n",
       "    </tr>\n",
       "    <tr>\n",
       "      <th>4</th>\n",
       "      <td>C1=NC=CC(C2C(C3=CC=NC=C3)C(C3=CC=NC=C3)C2C2=CC...</td>\n",
       "      <td>CN1C2=C(C(=O)N(C1=O)C)NC=N2</td>\n",
       "      <td>0</td>\n",
       "      <td>0</td>\n",
       "      <td>0</td>\n",
       "    </tr>\n",
       "    <tr>\n",
       "      <th>...</th>\n",
       "      <td>...</td>\n",
       "      <td>...</td>\n",
       "      <td>...</td>\n",
       "      <td>...</td>\n",
       "      <td>...</td>\n",
       "    </tr>\n",
       "    <tr>\n",
       "      <th>4222</th>\n",
       "      <td>O=C1OC2=CC=C(Cl)C=C2NC1=CC(=O)C1=CC=CC=C1</td>\n",
       "      <td>CN1C2=C(C(=O)N(C1=O)C)NC=N2</td>\n",
       "      <td>1</td>\n",
       "      <td>0</td>\n",
       "      <td>1</td>\n",
       "    </tr>\n",
       "    <tr>\n",
       "      <th>4223</th>\n",
       "      <td>NC(=O)N1C2=CC=CC=C2C=CC2=CC=CC=C21</td>\n",
       "      <td>CN1C2=C(C(=O)N(C1=O)C)NC=N2</td>\n",
       "      <td>1</td>\n",
       "      <td>0</td>\n",
       "      <td>1</td>\n",
       "    </tr>\n",
       "    <tr>\n",
       "      <th>4224</th>\n",
       "      <td>CC(C(=O)O)C1=CC=CC(C(=O)C2=CC=CC=C2)=C1</td>\n",
       "      <td>CN1C2=C(C(=O)N(C1=O)C)NC=N2</td>\n",
       "      <td>0</td>\n",
       "      <td>0</td>\n",
       "      <td>0</td>\n",
       "    </tr>\n",
       "    <tr>\n",
       "      <th>4225</th>\n",
       "      <td>O=C1OC2=CC=CC=C2C2=CC=CC=C12</td>\n",
       "      <td>CN1C2=C(C(=O)N(C1=O)C)NC=N2</td>\n",
       "      <td>1</td>\n",
       "      <td>0</td>\n",
       "      <td>0</td>\n",
       "    </tr>\n",
       "    <tr>\n",
       "      <th>4226</th>\n",
       "      <td>N#CC1=C2C=CC=CC2=C(C#N)C2=CC=CC=C12</td>\n",
       "      <td>CN1C2=C(C(=O)N(C1=O)C)NC=N2</td>\n",
       "      <td>1</td>\n",
       "      <td>0</td>\n",
       "      <td>0</td>\n",
       "    </tr>\n",
       "  </tbody>\n",
       "</table>\n",
       "<p>4227 rows × 5 columns</p>\n",
       "</div>"
      ],
      "text/plain": [
       "                                               sequence  \\\n",
       "0                    CC1(C)C(=O)NC1S(=O)(=O)C1=CC=CC=C1   \n",
       "1                       CC1C(=O)NC1S(=O)(=O)C1=CC=CC=C1   \n",
       "2                                       OC1=CC=CC(O)=C1   \n",
       "3                           C(=CC1=CC=NC=C1)C1=CC=NC=C1   \n",
       "4     C1=NC=CC(C2C(C3=CC=NC=C3)C(C3=CC=NC=C3)C2C2=CC...   \n",
       "...                                                 ...   \n",
       "4222          O=C1OC2=CC=C(Cl)C=C2NC1=CC(=O)C1=CC=CC=C1   \n",
       "4223                 NC(=O)N1C2=CC=CC=C2C=CC2=CC=CC=C21   \n",
       "4224            CC(C(=O)O)C1=CC=CC(C(=O)C2=CC=CC=C2)=C1   \n",
       "4225                       O=C1OC2=CC=CC=C2C2=CC=CC=C12   \n",
       "4226                N#CC1=C2C=CC=CC2=C(C#N)C2=CC=CC=C12   \n",
       "\n",
       "                             Drug unobstructed orthogonal_planes  \\\n",
       "0     CN1C2=C(C(=O)N(C1=O)C)NC=N2            0                 0   \n",
       "1     CN1C2=C(C(=O)N(C1=O)C)NC=N2            1                 0   \n",
       "2     CN1C2=C(C(=O)N(C1=O)C)NC=N2            1                 0   \n",
       "3     CN1C2=C(C(=O)N(C1=O)C)NC=N2            1                 0   \n",
       "4     CN1C2=C(C(=O)N(C1=O)C)NC=N2            0                 0   \n",
       "...                           ...          ...               ...   \n",
       "4222  CN1C2=C(C(=O)N(C1=O)C)NC=N2            1                 0   \n",
       "4223  CN1C2=C(C(=O)N(C1=O)C)NC=N2            1                 0   \n",
       "4224  CN1C2=C(C(=O)N(C1=O)C)NC=N2            0                 0   \n",
       "4225  CN1C2=C(C(=O)N(C1=O)C)NC=N2            1                 0   \n",
       "4226  CN1C2=C(C(=O)N(C1=O)C)NC=N2            1                 0   \n",
       "\n",
       "     h_bond_bridging  \n",
       "0                  1  \n",
       "1                  1  \n",
       "2                  1  \n",
       "3                  0  \n",
       "4                  0  \n",
       "...              ...  \n",
       "4222               1  \n",
       "4223               1  \n",
       "4224               0  \n",
       "4225               0  \n",
       "4226               0  \n",
       "\n",
       "[4227 rows x 5 columns]"
      ]
     },
     "execution_count": 23,
     "metadata": {},
     "output_type": "execute_result"
    }
   ],
   "source": [
    "properties_to_predict = ['unobstructed', 'orthogonal_planes', 'h_bond_bridging']\n",
    "classification = Classifier()\n",
    "\n",
    "for property_name in properties_to_predict:\n",
    "    df[property_name] = None\n",
    "\n",
    "for index, row in df.iterrows():\n",
    "    drug_smiles = row['Drug']\n",
    "    coformer_smiles = row['sequence']\n",
    "\n",
    "    predicted_properties = classification.predict_properties(drug_smiles, coformer_smiles, properties_to_predict)\n",
    "\n",
    "    for property_name in properties_to_predict:\n",
    "        df.loc[index, property_name] = predicted_properties[property_name]\n",
    "\n",
    "df"
   ]
  },
  {
   "cell_type": "markdown",
   "source": [
    "#### Оставляем только подходящие"
   ],
   "metadata": {
    "collapsed": false
   }
  },
  {
   "cell_type": "code",
   "execution_count": 26,
   "metadata": {},
   "outputs": [
    {
     "data": {
      "application/vnd.microsoft.datawrangler.viewer.v0+json": {
       "columns": [
        {
         "name": "index",
         "rawType": "int64",
         "type": "integer"
        },
        {
         "name": "sequence",
         "rawType": "object",
         "type": "string"
        },
        {
         "name": "Drug",
         "rawType": "object",
         "type": "string"
        },
        {
         "name": "unobstructed",
         "rawType": "object",
         "type": "unknown"
        },
        {
         "name": "orthogonal_planes",
         "rawType": "object",
         "type": "unknown"
        },
        {
         "name": "h_bond_bridging",
         "rawType": "object",
         "type": "unknown"
        }
       ],
       "conversionMethod": "pd.DataFrame",
       "ref": "38e4accb-66e8-4fd1-b643-931e8b4e3d61",
       "rows": [
        [
         "16",
         "N#CC(C#N)=C1C=CC(=C(C#N)C#N)C=C1",
         "CN1C2=C(C(=O)N(C1=O)C)NC=N2",
         "1",
         "1",
         "0"
        ],
        [
         "19",
         "CC(=O)C=C(C)O",
         "CN1C2=C(C(=O)N(C1=O)C)NC=N2",
         "1",
         "1",
         "0"
        ],
        [
         "25",
         "O=C(O)C(=O)O",
         "CN1C2=C(C(=O)N(C1=O)C)NC=N2",
         "1",
         "1",
         "0"
        ],
        [
         "28",
         "O=C1C(Cl)=C(Cl)C(=O)C(Cl)=C1Cl",
         "CN1C2=C(C(=O)N(C1=O)C)NC=N2",
         "1",
         "1",
         "0"
        ],
        [
         "65",
         "O=C(O)C1=CC(F)=C(F)C(F)=C1F",
         "CN1C2=C(C(=O)N(C1=O)C)NC=N2",
         "1",
         "1",
         "0"
        ],
        [
         "66",
         "O=C(O)C1=C(F)C=CC=C1F",
         "CN1C2=C(C(=O)N(C1=O)C)NC=N2",
         "1",
         "1",
         "0"
        ],
        [
         "67",
         "O=C(O)C1=CC(F)=CC=C1F",
         "CN1C2=C(C(=O)N(C1=O)C)NC=N2",
         "1",
         "1",
         "0"
        ],
        [
         "68",
         "O=C(O)C1=CC=CC(F)=C1F",
         "CN1C2=C(C(=O)N(C1=O)C)NC=N2",
         "1",
         "1",
         "0"
        ],
        [
         "69",
         "O=C(O)C1=CC=CC(F)=C1",
         "CN1C2=C(C(=O)N(C1=O)C)NC=N2",
         "1",
         "1",
         "0"
        ],
        [
         "70",
         "O=C(O)C1=CC=CC=C1F",
         "CN1C2=C(C(=O)N(C1=O)C)NC=N2",
         "1",
         "1",
         "0"
        ],
        [
         "71",
         "O=C(O)C1=CC=CC=C1",
         "CN1C2=C(C(=O)N(C1=O)C)NC=N2",
         "1",
         "1",
         "0"
        ],
        [
         "72",
         "O=[N+]([O-])C1=CC=C(O)C=C1",
         "CN1C2=C(C(=O)N(C1=O)C)NC=N2",
         "1",
         "1",
         "0"
        ],
        [
         "88",
         "N#CC1=CC(C#N)=C(C#N)C=C1C#N",
         "CN1C2=C(C(=O)N(C1=O)C)NC=N2",
         "1",
         "1",
         "0"
        ],
        [
         "96",
         "FC1=C(F)C(I)=C(F)C(F)=C1I",
         "CN1C2=C(C(=O)N(C1=O)C)NC=N2",
         "1",
         "1",
         "0"
        ],
        [
         "101",
         "C#CC(=O)O",
         "CN1C2=C(C(=O)N(C1=O)C)NC=N2",
         "1",
         "1",
         "0"
        ],
        [
         "109",
         "CCCC=CC(=O)O",
         "CN1C2=C(C(=O)N(C1=O)C)NC=N2",
         "1",
         "1",
         "0"
        ],
        [
         "138",
         "CC1=CC=NC=C1",
         "CN1C2=C(C(=O)N(C1=O)C)NC=N2",
         "1",
         "1",
         "0"
        ],
        [
         "142",
         "O=C1C=CC(=O)N1",
         "CN1C2=C(C(=O)N(C1=O)C)NC=N2",
         "1",
         "1",
         "0"
        ],
        [
         "169",
         "OC1=CC=C(Br)C=C1",
         "CN1C2=C(C(=O)N(C1=O)C)NC=N2",
         "1",
         "1",
         "0"
        ],
        [
         "172",
         "C1=CN=CC=N1",
         "CN1C2=C(C(=O)N(C1=O)C)NC=N2",
         "1",
         "1",
         "0"
        ],
        [
         "176",
         "O=[N+]([O-])C1=CC([N+](=O)[O-])=C(O)C([N+](=O)[O-])=C1",
         "CN1C2=C(C(=O)N(C1=O)C)NC=N2",
         "1",
         "1",
         "0"
        ],
        [
         "180",
         "O=[N+]([O-])C1=CC=CC=C1",
         "CN1C2=C(C(=O)N(C1=O)C)NC=N2",
         "1",
         "1",
         "0"
        ],
        [
         "183",
         "C1CSCCS1",
         "CN1C2=C(C(=O)N(C1=O)C)NC=N2",
         "1",
         "1",
         "0"
        ],
        [
         "185",
         "FC1=C(F)C(F)=C(I)C(I)=C1F",
         "CN1C2=C(C(=O)N(C1=O)C)NC=N2",
         "1",
         "1",
         "0"
        ],
        [
         "195",
         "C=CCOC(C)=O",
         "CN1C2=C(C(=O)N(C1=O)C)NC=N2",
         "1",
         "1",
         "0"
        ],
        [
         "197",
         "O=[N+]([O-])C1=CC=CC([N+](=O)[O-])=C1",
         "CN1C2=C(C(=O)N(C1=O)C)NC=N2",
         "1",
         "1",
         "0"
        ],
        [
         "206",
         "BrC1=CC=CN=C1",
         "CN1C2=C(C(=O)N(C1=O)C)NC=N2",
         "1",
         "1",
         "0"
        ],
        [
         "207",
         "ClC1=CC=CN=C1",
         "CN1C2=C(C(=O)N(C1=O)C)NC=N2",
         "1",
         "1",
         "0"
        ],
        [
         "210",
         "O=C1C(Br)=C(Br)C(=O)C(Br)=C1Br",
         "CN1C2=C(C(=O)N(C1=O)C)NC=N2",
         "1",
         "1",
         "0"
        ],
        [
         "211",
         "C1=CSC(=C2SC=CS2)S1",
         "CN1C2=C(C(=O)N(C1=O)C)NC=N2",
         "1",
         "1",
         "0"
        ],
        [
         "212",
         "FC(F)(I)C(F)(F)C(F)(F)C(F)(F)I",
         "CN1C2=C(C(=O)N(C1=O)C)NC=N2",
         "1",
         "1",
         "0"
        ],
        [
         "213",
         "FC(F)(I)C(F)(F)C(F)(F)C(F)(F)C(F)(F)C(F)(F)C(F)(F)C(F)(F)I",
         "CN1C2=C(C(=O)N(C1=O)C)NC=N2",
         "1",
         "1",
         "0"
        ],
        [
         "214",
         "FC(F)(I)C(F)(F)I",
         "CN1C2=C(C(=O)N(C1=O)C)NC=N2",
         "1",
         "1",
         "0"
        ],
        [
         "217",
         "C1=CC=C2C(=C1)C1=CC=CC=C21",
         "CN1C2=C(C(=O)N(C1=O)C)NC=N2",
         "1",
         "1",
         "0"
        ],
        [
         "218",
         "C1CSC2=C(S1)SC(=C1SC3=C(SCCS3)S1)S2",
         "CN1C2=C(C(=O)N(C1=O)C)NC=N2",
         "1",
         "1",
         "0"
        ],
        [
         "223",
         "O=C(O)C1=CC=C(F)C=C1",
         "CN1C2=C(C(=O)N(C1=O)C)NC=N2",
         "1",
         "1",
         "0"
        ],
        [
         "231",
         "O=[N+]([O-])C1=CC([N+](=O)[O-])=CC([N+](=O)[O-])=C1",
         "CN1C2=C(C(=O)N(C1=O)C)NC=N2",
         "1",
         "1",
         "0"
        ],
        [
         "252",
         "C#CC1=CC=C(C#C)C=C1",
         "CN1C2=C(C(=O)N(C1=O)C)NC=N2",
         "1",
         "1",
         "0"
        ],
        [
         "261",
         "CN1SC(Cl)=CC1=O",
         "CN1C2=C(C(=O)N(C1=O)C)NC=N2",
         "1",
         "1",
         "0"
        ],
        [
         "276",
         "FC1=CC(F)=CC(C#CI)=C1",
         "CN1C2=C(C(=O)N(C1=O)C)NC=N2",
         "1",
         "1",
         "0"
        ],
        [
         "280",
         "FC1=C(F)C(F)=C(I)C(F)=C1F",
         "CN1C2=C(C(=O)N(C1=O)C)NC=N2",
         "1",
         "1",
         "0"
        ],
        [
         "283",
         "FC1=C(I)C(F)=C(I)C(F)=C1I",
         "CN1C2=C(C(=O)N(C1=O)C)NC=N2",
         "1",
         "1",
         "0"
        ],
        [
         "284",
         "C1=CC2=CN=NN2C=C1",
         "CN1C2=C(C(=O)N(C1=O)C)NC=N2",
         "1",
         "1",
         "0"
        ],
        [
         "299",
         "C1=CC=C2SC=NC2=C1",
         "CN1C2=C(C(=O)N(C1=O)C)NC=N2",
         "1",
         "1",
         "0"
        ],
        [
         "300",
         "O=[N+]([O-])C1=CC=C(O)C([N+](=O)[O-])=C1",
         "CN1C2=C(C(=O)N(C1=O)C)NC=N2",
         "1",
         "1",
         "0"
        ],
        [
         "303",
         "BrCCCCCCBr",
         "CN1C2=C(C(=O)N(C1=O)C)NC=N2",
         "1",
         "1",
         "0"
        ],
        [
         "307",
         "FC1=C(F)C(Br)=C(F)C(F)=C1Br",
         "CN1C2=C(C(=O)N(C1=O)C)NC=N2",
         "1",
         "1",
         "0"
        ],
        [
         "329",
         "O=[N+]([O-])C1=CC=C([N+](=O)[O-])C=C1",
         "CN1C2=C(C(=O)N(C1=O)C)NC=N2",
         "1",
         "1",
         "0"
        ],
        [
         "330",
         "O=C1C=CC(=O)C=C1",
         "CN1C2=C(C(=O)N(C1=O)C)NC=N2",
         "1",
         "1",
         "0"
        ],
        [
         "382",
         "BrC(Br)=C(Br)Br",
         "CN1C2=C(C(=O)N(C1=O)C)NC=N2",
         "1",
         "1",
         "0"
        ]
       ],
       "shape": {
        "columns": 5,
        "rows": 355
       }
      },
      "text/html": [
       "<div>\n",
       "<style scoped>\n",
       "    .dataframe tbody tr th:only-of-type {\n",
       "        vertical-align: middle;\n",
       "    }\n",
       "\n",
       "    .dataframe tbody tr th {\n",
       "        vertical-align: top;\n",
       "    }\n",
       "\n",
       "    .dataframe thead th {\n",
       "        text-align: right;\n",
       "    }\n",
       "</style>\n",
       "<table border=\"1\" class=\"dataframe\">\n",
       "  <thead>\n",
       "    <tr style=\"text-align: right;\">\n",
       "      <th></th>\n",
       "      <th>sequence</th>\n",
       "      <th>Drug</th>\n",
       "      <th>unobstructed</th>\n",
       "      <th>orthogonal_planes</th>\n",
       "      <th>h_bond_bridging</th>\n",
       "    </tr>\n",
       "  </thead>\n",
       "  <tbody>\n",
       "    <tr>\n",
       "      <th>16</th>\n",
       "      <td>N#CC(C#N)=C1C=CC(=C(C#N)C#N)C=C1</td>\n",
       "      <td>CN1C2=C(C(=O)N(C1=O)C)NC=N2</td>\n",
       "      <td>1</td>\n",
       "      <td>1</td>\n",
       "      <td>0</td>\n",
       "    </tr>\n",
       "    <tr>\n",
       "      <th>19</th>\n",
       "      <td>CC(=O)C=C(C)O</td>\n",
       "      <td>CN1C2=C(C(=O)N(C1=O)C)NC=N2</td>\n",
       "      <td>1</td>\n",
       "      <td>1</td>\n",
       "      <td>0</td>\n",
       "    </tr>\n",
       "    <tr>\n",
       "      <th>25</th>\n",
       "      <td>O=C(O)C(=O)O</td>\n",
       "      <td>CN1C2=C(C(=O)N(C1=O)C)NC=N2</td>\n",
       "      <td>1</td>\n",
       "      <td>1</td>\n",
       "      <td>0</td>\n",
       "    </tr>\n",
       "    <tr>\n",
       "      <th>28</th>\n",
       "      <td>O=C1C(Cl)=C(Cl)C(=O)C(Cl)=C1Cl</td>\n",
       "      <td>CN1C2=C(C(=O)N(C1=O)C)NC=N2</td>\n",
       "      <td>1</td>\n",
       "      <td>1</td>\n",
       "      <td>0</td>\n",
       "    </tr>\n",
       "    <tr>\n",
       "      <th>65</th>\n",
       "      <td>O=C(O)C1=CC(F)=C(F)C(F)=C1F</td>\n",
       "      <td>CN1C2=C(C(=O)N(C1=O)C)NC=N2</td>\n",
       "      <td>1</td>\n",
       "      <td>1</td>\n",
       "      <td>0</td>\n",
       "    </tr>\n",
       "    <tr>\n",
       "      <th>...</th>\n",
       "      <td>...</td>\n",
       "      <td>...</td>\n",
       "      <td>...</td>\n",
       "      <td>...</td>\n",
       "      <td>...</td>\n",
       "    </tr>\n",
       "    <tr>\n",
       "      <th>4079</th>\n",
       "      <td>O=C(O)C1=CC=C(F)C([N+](=O)[O-])=C1</td>\n",
       "      <td>CN1C2=C(C(=O)N(C1=O)C)NC=N2</td>\n",
       "      <td>1</td>\n",
       "      <td>1</td>\n",
       "      <td>0</td>\n",
       "    </tr>\n",
       "    <tr>\n",
       "      <th>4124</th>\n",
       "      <td>OC1=CC=C(Cl)C(Cl)=C1Cl</td>\n",
       "      <td>CN1C2=C(C(=O)N(C1=O)C)NC=N2</td>\n",
       "      <td>1</td>\n",
       "      <td>1</td>\n",
       "      <td>0</td>\n",
       "    </tr>\n",
       "    <tr>\n",
       "      <th>4127</th>\n",
       "      <td>O=[N+]([O-])C1=C(Cl)C([N+](=O)[O-])=C(Cl)C([N+...</td>\n",
       "      <td>CN1C2=C(C(=O)N(C1=O)C)NC=N2</td>\n",
       "      <td>1</td>\n",
       "      <td>1</td>\n",
       "      <td>0</td>\n",
       "    </tr>\n",
       "    <tr>\n",
       "      <th>4144</th>\n",
       "      <td>CC(O)=S</td>\n",
       "      <td>CN1C2=C(C(=O)N(C1=O)C)NC=N2</td>\n",
       "      <td>1</td>\n",
       "      <td>1</td>\n",
       "      <td>0</td>\n",
       "    </tr>\n",
       "    <tr>\n",
       "      <th>4163</th>\n",
       "      <td>N#CN=C1C=CC(=C(C#N)C#N)C=C1</td>\n",
       "      <td>CN1C2=C(C(=O)N(C1=O)C)NC=N2</td>\n",
       "      <td>1</td>\n",
       "      <td>1</td>\n",
       "      <td>0</td>\n",
       "    </tr>\n",
       "  </tbody>\n",
       "</table>\n",
       "<p>355 rows × 5 columns</p>\n",
       "</div>"
      ],
      "text/plain": [
       "                                               sequence  \\\n",
       "16                     N#CC(C#N)=C1C=CC(=C(C#N)C#N)C=C1   \n",
       "19                                        CC(=O)C=C(C)O   \n",
       "25                                         O=C(O)C(=O)O   \n",
       "28                       O=C1C(Cl)=C(Cl)C(=O)C(Cl)=C1Cl   \n",
       "65                          O=C(O)C1=CC(F)=C(F)C(F)=C1F   \n",
       "...                                                 ...   \n",
       "4079                 O=C(O)C1=CC=C(F)C([N+](=O)[O-])=C1   \n",
       "4124                             OC1=CC=C(Cl)C(Cl)=C1Cl   \n",
       "4127  O=[N+]([O-])C1=C(Cl)C([N+](=O)[O-])=C(Cl)C([N+...   \n",
       "4144                                            CC(O)=S   \n",
       "4163                        N#CN=C1C=CC(=C(C#N)C#N)C=C1   \n",
       "\n",
       "                             Drug unobstructed orthogonal_planes  \\\n",
       "16    CN1C2=C(C(=O)N(C1=O)C)NC=N2            1                 1   \n",
       "19    CN1C2=C(C(=O)N(C1=O)C)NC=N2            1                 1   \n",
       "25    CN1C2=C(C(=O)N(C1=O)C)NC=N2            1                 1   \n",
       "28    CN1C2=C(C(=O)N(C1=O)C)NC=N2            1                 1   \n",
       "65    CN1C2=C(C(=O)N(C1=O)C)NC=N2            1                 1   \n",
       "...                           ...          ...               ...   \n",
       "4079  CN1C2=C(C(=O)N(C1=O)C)NC=N2            1                 1   \n",
       "4124  CN1C2=C(C(=O)N(C1=O)C)NC=N2            1                 1   \n",
       "4127  CN1C2=C(C(=O)N(C1=O)C)NC=N2            1                 1   \n",
       "4144  CN1C2=C(C(=O)N(C1=O)C)NC=N2            1                 1   \n",
       "4163  CN1C2=C(C(=O)N(C1=O)C)NC=N2            1                 1   \n",
       "\n",
       "     h_bond_bridging  \n",
       "16                 0  \n",
       "19                 0  \n",
       "25                 0  \n",
       "28                 0  \n",
       "65                 0  \n",
       "...              ...  \n",
       "4079               0  \n",
       "4124               0  \n",
       "4127               0  \n",
       "4144               0  \n",
       "4163               0  \n",
       "\n",
       "[355 rows x 5 columns]"
      ]
     },
     "execution_count": 26,
     "metadata": {},
     "output_type": "execute_result"
    }
   ],
   "source": [
    "df[(df['unobstructed'] == 1) & (df['orthogonal_planes'] == 1) & (df['h_bond_bridging'] == 0)].drop_duplicates()"
   ]
  }
 ],
 "metadata": {
  "kernelspec": {
   "display_name": "pro100",
   "language": "python",
   "name": "python3"
  },
  "language_info": {
   "codemirror_mode": {
    "name": "ipython",
    "version": 3
   },
   "file_extension": ".py",
   "mimetype": "text/x-python",
   "name": "python",
   "nbconvert_exporter": "python",
   "pygments_lexer": "ipython3",
   "version": "3.8.20"
  }
 },
 "nbformat": 4,
 "nbformat_minor": 2
}
